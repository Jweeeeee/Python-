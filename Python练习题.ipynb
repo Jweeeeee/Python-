{
 "cells": [
  {
   "cell_type": "markdown",
   "metadata": {},
   "source": [
    "### 题目1：编写程序：hello.py，要求用户输入姓名并打印“你好，姓名！”"
   ]
  },
  {
   "cell_type": "code",
   "execution_count": 4,
   "metadata": {},
   "outputs": [
    {
     "name": "stdout",
     "output_type": "stream",
     "text": [
      "你的名字：小甲鱼\n",
      "你好, 小甲鱼!\n"
     ]
    }
   ],
   "source": [
    "def hello():\n",
    "    name = input('你的名字：')\n",
    "    print('你好, %s!'%name)\n",
    "hello()"
   ]
  },
  {
   "cell_type": "markdown",
   "metadata": {},
   "source": [
    "### 题目2：编写程序：calc.py 要求用户输入1到100之间数字并判断，输入符合要求打印“你妹好漂亮”，不符合要求则打印“你大爷好丑”"
   ]
  },
  {
   "cell_type": "code",
   "execution_count": 5,
   "metadata": {
    "scrolled": true
   },
   "outputs": [
    {
     "name": "stdout",
     "output_type": "stream",
     "text": [
      "请输入一个1~100间的数：56\n",
      "你妹好漂亮\n"
     ]
    }
   ],
   "source": [
    "def calc():\n",
    "    number = float(input('请输入一个1~100间的数：'))\n",
    "    print('你妹好漂亮' if (1 <= number <= 100) else '你大爷好丑')\n",
    "calc()"
   ]
  },
  {
   "cell_type": "markdown",
   "metadata": {},
   "source": [
    "### 题目3：如果非要在原始字符串结尾输入反斜杠，可以如何灵活处理？例如打印：C:\\Program Files\\FishC\\Good\\"
   ]
  },
  {
   "cell_type": "code",
   "execution_count": 6,
   "metadata": {},
   "outputs": [
    {
     "name": "stdout",
     "output_type": "stream",
     "text": [
      "C:Program Files\\FishC\\Good\\\n"
     ]
    }
   ],
   "source": [
    "print(r'C:Program Files\\FishC\\Good'+'\\\\')    # +号可省略"
   ]
  },
  {
   "cell_type": "markdown",
   "metadata": {},
   "source": [
    "### 题目4：请问以下代码会打印多少次“我爱鱼C！”"
   ]
  },
  {
   "cell_type": "code",
   "execution_count": 7,
   "metadata": {},
   "outputs": [
    {
     "name": "stdout",
     "output_type": "stream",
     "text": [
      "我爱鱼C!\n",
      "我爱鱼C!\n",
      "我爱鱼C!\n",
      "我爱鱼C!\n",
      "我爱鱼C!\n",
      "我爱鱼C!\n",
      "我爱鱼C!\n",
      "我爱鱼C!\n",
      "我爱鱼C!\n",
      "我爱鱼C!\n"
     ]
    }
   ],
   "source": [
    "i = 10\n",
    "while i:\n",
    "    print('我爱鱼C!')\n",
    "    i = i - 1"
   ]
  },
  {
   "cell_type": "markdown",
   "metadata": {},
   "source": [
    "While循环在条件为True时执行下面语句，条件为False时跳出循环，每次执行，i-1，到0的时候，条件为False，跳出循环\n",
    "\n",
    "* Python3中bool类型是int类型的子类,True == 1,False == 0\n",
    "\n",
    "* Python3中其他类型值转换 bool 值时除了 ''、\"\"、''''''、\"\"\"\"\"\"、0、()、[]、{}、None、0.0、0L、0.0+0.0j、False 为 False 外，其他都为 True"
   ]
  },
  {
   "cell_type": "code",
   "execution_count": 8,
   "metadata": {},
   "outputs": [
    {
     "name": "stdout",
     "output_type": "stream",
     "text": [
      "True\n",
      "True\n",
      "False\n",
      "False\n"
     ]
    }
   ],
   "source": [
    "print(True == 1)\n",
    "print(False == 0)\n",
    "print(True == 520)\n",
    "print(True == 'asd')"
   ]
  },
  {
   "cell_type": "markdown",
   "metadata": {},
   "source": [
    "### 题目5： 请写出与 10 < cost < 50 等价的表达式"
   ]
  },
  {
   "cell_type": "markdown",
   "metadata": {},
   "source": [
    "(10 < cost) and (cost < 50)"
   ]
  },
  {
   "cell_type": "markdown",
   "metadata": {},
   "source": [
    "### 题目6：not 1 or 0 and 1 or 3 and 4 or 5 and 6 or 7 and 8 and 9 的运算结果"
   ]
  },
  {
   "cell_type": "code",
   "execution_count": 9,
   "metadata": {},
   "outputs": [
    {
     "data": {
      "text/plain": [
       "4"
      ]
     },
     "execution_count": 9,
     "metadata": {},
     "output_type": "execute_result"
    }
   ],
   "source": [
    "not 1 or 0 and 1 or 3 and 4 or 5 and 6 or 7 and 8 and 9"
   ]
  },
  {
   "cell_type": "markdown",
   "metadata": {},
   "source": [
    "* not 即非，返回其值相反的bool型\n",
    "\n",
    "* or 即或，返回值为True的前一个。若都为True则返回前一个，若都不为True则返回False\n",
    "\n",
    "* and 即且，返回值为True的后一个。若都为True则返回后一个，若不都为True则返回False\n",
    "\n",
    "* 运算顺序 not > and > or "
   ]
  },
  {
   "cell_type": "markdown",
   "metadata": {},
   "source": [
    "### 题目7：请写一个程序打印出 0~100 所有的奇数"
   ]
  },
  {
   "cell_type": "code",
   "execution_count": 10,
   "metadata": {},
   "outputs": [
    {
     "name": "stdout",
     "output_type": "stream",
     "text": [
      "1 3 5 7 9 11 13 15 17 19 21 23 25 27 29 31 33 35 37 39 41 43 45 47 49 51 53 55 57 59 61 63 65 67 69 71 73 75 77 79 81 83 85 87 89 91 93 95 97 99 "
     ]
    }
   ],
   "source": [
    "def odd(a,b):\n",
    "    for i in range(a,b+1):\n",
    "        if i % 2 == 1:\n",
    "            print(i,end=' ')\n",
    "odd(0,100)"
   ]
  },
  {
   "cell_type": "markdown",
   "metadata": {},
   "source": [
    "\n",
    "### 题目8：爱因斯坦曾出过这样一道有趣的数学题：有一个长阶梯，若每步上2阶，最后剩1阶；若每步上3阶，最后剩2阶；若每步上5阶，最后剩4阶；若每步上6阶，最后剩5阶；只有每步上7阶，最后刚好一阶也不剩。问阶梯共多少阶？"
   ]
  },
  {
   "cell_type": "code",
   "execution_count": 11,
   "metadata": {},
   "outputs": [
    {
     "name": "stdout",
     "output_type": "stream",
     "text": [
      "阶梯共119阶\n"
     ]
    }
   ],
   "source": [
    "x = 0\n",
    "while True :\n",
    "    x += 7\n",
    "    if x % 2 == 1 and \\\n",
    "        x % 3 == 2 and \\\n",
    "        x % 5 == 4 and \\\n",
    "        x % 6 == 5  :\n",
    "        print('阶梯共%d阶'%x)\n",
    "        break"
   ]
  },
  {
   "cell_type": "markdown",
   "metadata": {},
   "source": [
    "### 题目9：快速交换x=1,y=2,z=3的值"
   ]
  },
  {
   "cell_type": "code",
   "execution_count": 12,
   "metadata": {},
   "outputs": [
    {
     "name": "stdout",
     "output_type": "stream",
     "text": [
      "(3, 1, 2)\n"
     ]
    }
   ],
   "source": [
    "x = 1\n",
    "y = 2\n",
    "z = 3\n",
    "(x,y,z) = (z,x,y)\n",
    "print((x,y,z))"
   ]
  },
  {
   "cell_type": "markdown",
   "metadata": {},
   "source": [
    "### 题目10：按照100分制，90分以上成绩为A，80到90为B，60到80为C，60以下为D，写一个程序，当用户输入分数，自动转换为ABCD的形式打印"
   ]
  },
  {
   "cell_type": "code",
   "execution_count": 13,
   "metadata": {},
   "outputs": [
    {
     "name": "stdout",
     "output_type": "stream",
     "text": [
      "请输入学生的分数:57\n",
      "D\n"
     ]
    }
   ],
   "source": [
    "def ABC():\n",
    "    number = float(input('请输入学生的分数:'))\n",
    "    if number>100 or number<0 :\n",
    "        print('您输入的分数有误')\n",
    "    elif number>90 :\n",
    "        return 'A'\n",
    "    elif number>80 :\n",
    "        return 'B'\n",
    "    elif number>60 :\n",
    "        return 'C'\n",
    "    else :\n",
    "        return 'D'\n",
    "print(ABC())"
   ]
  },
  {
   "cell_type": "markdown",
   "metadata": {},
   "source": [
    "### 题目11：请将以下代码修改为三元操作符实现：\n",
    "x, y, z = 6, 5, 4\n",
    "\n",
    "if x < y:\n",
    "\n",
    "    small = x\n",
    "\n",
    "if z < small: \n",
    "    \n",
    "    small = z\n",
    "\n",
    "elif y < z:\n",
    "    \n",
    "    small = y\n",
    "\n",
    "else:\n",
    "    \n",
    "    small = z"
   ]
  },
  {
   "cell_type": "code",
   "execution_count": 14,
   "metadata": {
    "scrolled": true
   },
   "outputs": [
    {
     "name": "stdout",
     "output_type": "stream",
     "text": [
      "4\n"
     ]
    }
   ],
   "source": [
    "def quxiao(x,y,z):\n",
    "    small = (x if (x < y) else y)\n",
    "    print(small if (small < z) else z)\n",
    "quxiao(4,5,6)"
   ]
  },
  {
   "cell_type": "markdown",
   "metadata": {},
   "source": [
    "### 题目12：目测以下程序会打印什么？"
   ]
  },
  {
   "cell_type": "code",
   "execution_count": 15,
   "metadata": {},
   "outputs": [
    {
     "name": "stdout",
     "output_type": "stream",
     "text": [
      "2\n",
      "3\n"
     ]
    }
   ],
   "source": [
    "while True:\n",
    "    while True:\n",
    "        break\n",
    "        print(1)\n",
    "    print(2)\n",
    "    break\n",
    "print(3)"
   ]
  },
  {
   "cell_type": "markdown",
   "metadata": {},
   "source": [
    "### 题目13：设计一个验证用户密码程序，用户只有三次机会输入错误，不过如果用户输入的内容中包含\"*\"则不计算在内"
   ]
  },
  {
   "cell_type": "code",
   "execution_count": 2,
   "metadata": {},
   "outputs": [
    {
     "name": "stdout",
     "output_type": "stream",
     "text": [
      "请输入您的密码：1232141\n",
      "验证失败！您还有 2 次机会!\n",
      "请输入您的密码：***\n",
      "密码中不能有*号！您还有 2 次机会！\n",
      "请输入您的密码：123211512\n",
      "验证失败！您还有 1 次机会!\n",
      "请输入您的密码：#$!@#@!#@!#!****\n",
      "密码中不能有*号！您还有 1 次机会！\n",
      "请输入您的密码：1231241*\n",
      "密码中不能有*号！您还有 1 次机会！\n",
      "请输入您的密码：***\n",
      "密码中不能有*号！您还有 1 次机会！\n",
      "请输入您的密码：12313\n",
      "验证失败！您还有 0 次机会!\n"
     ]
    },
    {
     "data": {
      "text/plain": [
       "'验证失败，您的账号已被冻结！'"
      ]
     },
     "execution_count": 2,
     "metadata": {},
     "output_type": "execute_result"
    }
   ],
   "source": [
    "def check():\n",
    "    time = 3\n",
    "    password = '123456a'\n",
    "    while time :\n",
    "        pw = input('请输入您的密码：')\n",
    "        if pw == password :\n",
    "            return '验证成功！'\n",
    "        elif '*' in pw :\n",
    "            print('密码中不能有*号！您还有',time,'次机会！')\n",
    "            continue\n",
    "        else :\n",
    "            time -= 1\n",
    "            print('验证失败！您还有',time,'次机会!')\n",
    "    if time == 0:\n",
    "        return '验证失败，您的账号已被冻结！'\n",
    "check()"
   ]
  },
  {
   "cell_type": "markdown",
   "metadata": {},
   "source": [
    "## 题目14：编写一个程序，求 100~999 之间的所有水仙花数"
   ]
  },
  {
   "cell_type": "code",
   "execution_count": 42,
   "metadata": {},
   "outputs": [
    {
     "name": "stdout",
     "output_type": "stream",
     "text": [
      "153 370 371 407 "
     ]
    }
   ],
   "source": [
    "def Narc1(a,b):\n",
    "    for i in range(a,b):\n",
    "        if i == eval(str(i)[0])**3 + eval(str(i)[1])**3 + eval(str(i)[2])**3 :\n",
    "            print(i,end=' ')\n",
    "Narc(100,1000)"
   ]
  },
  {
   "cell_type": "code",
   "execution_count": 46,
   "metadata": {},
   "outputs": [
    {
     "name": "stdout",
     "output_type": "stream",
     "text": [
      "153 370 371 407 "
     ]
    }
   ],
   "source": [
    "def Narc2(g,h):\n",
    "    for a in range(9):\n",
    "        for b in range(9):\n",
    "            for c in range(9):\n",
    "                z = 100*a + 10*b + c\n",
    "                if a**3 + b**3 + c**3 == z and g<= z <h :\n",
    "                    print(z,end=' ')\n",
    "Narc2(100,1000)"
   ]
  },
  {
   "cell_type": "code",
   "execution_count": 13,
   "metadata": {},
   "outputs": [
    {
     "name": "stdout",
     "output_type": "stream",
     "text": [
      "153 370 371 407 "
     ]
    }
   ],
   "source": [
    "def Narc3(a,b):\n",
    "    for i in range(a,b):\n",
    "        sum = 0\n",
    "        temp = i\n",
    "        while temp :\n",
    "            sum = sum + (temp%10)**3    #temp%10依次取得i的个位，十位，百位\n",
    "            temp //= 10    #地板除法，如i = 153 则第一次返回 15\n",
    "        if sum == i :\n",
    "            print(i,end=' ')\n",
    "Narc3(100,1000)"
   ]
  },
  {
   "cell_type": "markdown",
   "metadata": {},
   "source": [
    "### 题目15：有红、黄、蓝三种颜色的球，其中红球 3 个，黄球 3 个，绿球 6 个。先将这 12 个球混合放在一个盒子中，从中任意摸出 8 个球，编程计算摸出球的各种颜色搭配"
   ]
  },
  {
   "cell_type": "code",
   "execution_count": 18,
   "metadata": {},
   "outputs": [
    {
     "name": "stdout",
     "output_type": "stream",
     "text": [
      "red\tyellow\tblue\n",
      "0 \t 2 \t 6\n",
      "0 \t 3 \t 5\n",
      "1 \t 1 \t 6\n",
      "1 \t 2 \t 5\n",
      "1 \t 3 \t 4\n",
      "2 \t 0 \t 6\n",
      "2 \t 1 \t 5\n",
      "2 \t 2 \t 4\n",
      "2 \t 3 \t 3\n",
      "3 \t 0 \t 5\n",
      "3 \t 1 \t 4\n",
      "3 \t 2 \t 3\n",
      "3 \t 3 \t 2\n"
     ]
    }
   ],
   "source": [
    "def bobble_color():\n",
    "    print('red\\tyellow\\tblue')\n",
    "    for red in range(0, 4):\n",
    "        for yellow in range(0, 4):\n",
    "            for green in range(2, 7):\n",
    "                if red + yellow + green == 8:\n",
    "                    print(red, '\\t', yellow, '\\t', green)\n",
    "bobble_color()"
   ]
  },
  {
   "cell_type": "markdown",
   "metadata": {},
   "source": [
    "### 题目16：利用 for 循环打印下边 member 列表中的每个内容\n",
    "\n",
    "member = ['小甲鱼', 88, '黑夜', 90, '迷途', 85, '怡静', 90, '秋舞斜阳', 88]"
   ]
  },
  {
   "cell_type": "code",
   "execution_count": 3,
   "metadata": {
    "scrolled": true
   },
   "outputs": [
    {
     "name": "stdout",
     "output_type": "stream",
     "text": [
      "小甲鱼,88,黑夜,90,迷途,85,怡静,90,秋舞斜阳,88,"
     ]
    }
   ],
   "source": [
    "member = ['小甲鱼', 88, '黑夜', 90, '迷途', 85, '怡静', 90, '秋舞斜阳', 88]\n",
    "for m in member :\n",
    "    print(m,end=',')"
   ]
  },
  {
   "cell_type": "markdown",
   "metadata": {},
   "source": [
    "### 题目17：如果不上机操作，你觉得会打印什么内容？\n",
    "\n",
    "\n",
    "1.>>> old = [1, 2, 3, 4, 5]\n",
    "\n",
    "2.>>> new = old\n",
    "\n",
    "3.>>> old = [6]\n",
    "\n",
    "4.>>> print(new)\n"
   ]
  },
  {
   "cell_type": "code",
   "execution_count": 4,
   "metadata": {},
   "outputs": [],
   "source": [
    "old = [1,2,3,4,5]"
   ]
  },
  {
   "cell_type": "code",
   "execution_count": 5,
   "metadata": {},
   "outputs": [],
   "source": [
    "new = old"
   ]
  },
  {
   "cell_type": "code",
   "execution_count": 6,
   "metadata": {},
   "outputs": [],
   "source": [
    "old = [6]"
   ]
  },
  {
   "cell_type": "code",
   "execution_count": 7,
   "metadata": {
    "scrolled": true
   },
   "outputs": [
    {
     "name": "stdout",
     "output_type": "stream",
     "text": [
      "[1, 2, 3, 4, 5]\n"
     ]
    }
   ],
   "source": [
    "print(new)"
   ]
  },
  {
   "cell_type": "markdown",
   "metadata": {},
   "source": [
    "* Python中赋值操作 = 相当于添加了一个指向其值内存地址的标签，new的标签指向列表[1,2,3,4,5]，old的指向被修改了，new仍然指向旧的列表"
   ]
  },
  {
   "cell_type": "markdown",
   "metadata": {},
   "source": [
    "### 题目18：请问如何将下边这个列表的'小甲鱼'修改为'小鱿鱼'？\n",
    "\n",
    "list1 = [1, [1, 2, ['小甲鱼']], 3, 5, 8, 13, 18]"
   ]
  },
  {
   "cell_type": "code",
   "execution_count": 15,
   "metadata": {},
   "outputs": [
    {
     "name": "stdout",
     "output_type": "stream",
     "text": [
      "[1, [1, 2, ['小甲鱼']], 3, 5, 8, 13, 18]\n"
     ]
    }
   ],
   "source": [
    "list1 = [1, [1, 2, ['小甲鱼']], 3, 5, 8, 13, 18]\n",
    "print(list1)"
   ]
  },
  {
   "cell_type": "code",
   "execution_count": 14,
   "metadata": {},
   "outputs": [
    {
     "name": "stdout",
     "output_type": "stream",
     "text": [
      "[1, [1, 2, ['小鱿鱼']], 3, 5, 8, 13, 18]\n"
     ]
    }
   ],
   "source": [
    "list1[1][2][0] = '小鱿鱼'\n",
    "print(list1)"
   ]
  },
  {
   "cell_type": "code",
   "execution_count": 16,
   "metadata": {},
   "outputs": [
    {
     "name": "stdout",
     "output_type": "stream",
     "text": [
      "[1, [1, 2, ['小鱿鱼']], 3, 5, 8, 13, 18]\n"
     ]
    }
   ],
   "source": [
    "list1[1][2] = ['小鱿鱼']\n",
    "print(list1)"
   ]
  },
  {
   "cell_type": "markdown",
   "metadata": {},
   "source": [
    "### 题目19：还原下面列表推导式（List comprehensions）"
   ]
  },
  {
   "cell_type": "code",
   "execution_count": 18,
   "metadata": {},
   "outputs": [
    {
     "name": "stdout",
     "output_type": "stream",
     "text": [
      "[(0, 1), (0, 3), (0, 5), (0, 7), (0, 9), (2, 1), (2, 3), (2, 5), (2, 7), (2, 9), (4, 1), (4, 3), (4, 5), (4, 7), (4, 9), (6, 1), (6, 3), (6, 5), (6, 7), (6, 9), (8, 1), (8, 3), (8, 5), (8, 7), (8, 9)]\n"
     ]
    }
   ],
   "source": [
    "list1 = [(x, y) for x in range(10) for y in range(10) if x%2==0 if y%2!=0]\n",
    "print(list1)"
   ]
  },
  {
   "cell_type": "code",
   "execution_count": 22,
   "metadata": {},
   "outputs": [
    {
     "name": "stdout",
     "output_type": "stream",
     "text": [
      "[(0, 1), (0, 3), (0, 5), (0, 7), (0, 9), (2, 1), (2, 3), (2, 5), (2, 7), (2, 9), (4, 1), (4, 3), (4, 5), (4, 7), (4, 9), (6, 1), (6, 3), (6, 5), (6, 7), (6, 9), (8, 1), (8, 3), (8, 5), (8, 7), (8, 9)]\n"
     ]
    }
   ],
   "source": [
    "list = []\n",
    "for x in range(10):\n",
    "    for y in range(10):\n",
    "        if x % 2 == 0 and y % 2 != 0:\n",
    "            list.append((x,y))\n",
    "print(list)"
   ]
  },
  {
   "cell_type": "markdown",
   "metadata": {},
   "source": [
    "### 题目20：创建一个元组，什么情况下逗号和小括号必须同时存在，缺一不可？"
   ]
  },
  {
   "cell_type": "code",
   "execution_count": 25,
   "metadata": {},
   "outputs": [
    {
     "name": "stdout",
     "output_type": "stream",
     "text": [
      "(1, 2, 3, 4, 5)\n"
     ]
    }
   ],
   "source": [
    "temp = 1,2,4,5,\n",
    "temp = temp[:2] + (3,) + temp[2:]\n",
    "print(temp)"
   ]
  },
  {
   "cell_type": "markdown",
   "metadata": {},
   "source": [
    "* 在元组只有一个元素的情况下"
   ]
  },
  {
   "cell_type": "markdown",
   "metadata": {},
   "source": [
    "### 题目21：还原为有意义的字符串：str1 = 'i2sl54ovvvb4e3bferi32s56h;$c43.sfc67o0cm99'"
   ]
  },
  {
   "cell_type": "code",
   "execution_count": 39,
   "metadata": {},
   "outputs": [
    {
     "data": {
      "text/plain": [
       "'ilovefishc.com'"
      ]
     },
     "execution_count": 39,
     "metadata": {},
     "output_type": "execute_result"
    }
   ],
   "source": [
    "str1 = 'i2sl54ovvvb4e3bferi32s56h;$c43.sfc67o0cm99'\n",
    "str1[::3]"
   ]
  },
  {
   "cell_type": "markdown",
   "metadata": {},
   "source": [
    "* 切片操作参考[切片操作详解](https://www.jianshu.com/p/cfcd7e05a5a4)"
   ]
  },
  {
   "cell_type": "markdown",
   "metadata": {},
   "source": [
    "### 题目22：请写一个密码安全性检查的脚本代码：check.py"
   ]
  },
  {
   "cell_type": "code",
   "execution_count": 2,
   "metadata": {},
   "outputs": [],
   "source": [
    "# 密码安全性检查代码\n",
    "#\n",
    "# 低级密码要求：\n",
    "#   1. 密码由单纯的数字或字母组成\n",
    "#   2. 密码长度小于等于8位\n",
    "#\n",
    "# 中级密码要求：\n",
    "#   1. 密码必须由数字、字母或特殊字符（仅限：~!@#$%^&*()_=-/,.?<>;:[]{}|\\）任意两种组合\n",
    "#   2. 密码长度不能低于8位\n",
    "#\n",
    "# 高级密码要求：\n",
    "#   1. 密码必须由数字、字母及特殊字符（仅限：~!@#$%^&*()_=-/,.?<>;:[]{}|\\）三种组合\n",
    "#   2. 密码只能由字母开头\n",
    "#   3. 密码长度不能低于16位"
   ]
  },
  {
   "cell_type": "code",
   "execution_count": 1,
   "metadata": {},
   "outputs": [
    {
     "name": "stdout",
     "output_type": "stream",
     "text": [
      "请输入密码：13121221412512\n",
      "密码安全程度为：低\n"
     ]
    }
   ],
   "source": [
    "def check():\n",
    "    pw_nums = '0123456789'\n",
    "    pw_chars = 'abcdefghijklmnopqrstuvwxyzABCDEFGHIJKLMNOPQRSTUVWXYZ'\n",
    "    pw_symbols = r'''`!@#$%^&*()_+-=/*{}[]\\|'\";:/?,.<>'''\n",
    "    \n",
    "    passwd = input('请输入密码：')\n",
    "    \n",
    "    length = len(passwd)\n",
    "    \n",
    "    #检查密码是否为空\n",
    "    while length == 0 or passwd.isspace():\n",
    "        passwd = input('密码为空，请重新输入：')\n",
    "    \n",
    "    y = 0\n",
    "    z = 0\n",
    "    \n",
    "    #检查密码长度\n",
    "    if length <= 8 :\n",
    "        x = 1\n",
    "    elif 8 <= length <= 16 :\n",
    "        x = 2\n",
    "    else :\n",
    "        x = 3\n",
    "    \n",
    "    #分别检查密码中是否包含数字，字母，特殊字符\n",
    "    for _ in passwd :\n",
    "        if _ in pw_nums :\n",
    "            y = 1\n",
    "            break\n",
    "    \n",
    "    for _ in passwd :\n",
    "        if _ in pw_chars :\n",
    "            y += 1\n",
    "            break\n",
    "            \n",
    "    for _ in passwd :\n",
    "        if _ in pw_symbols :\n",
    "            y += 1\n",
    "            break\n",
    "    \n",
    "    #检查首字母\n",
    "    if passwd[0] in pw_symbols :\n",
    "        z = 1\n",
    "        \n",
    "    #根据检查结果反馈信息\n",
    "    print('密码安全程度为：',end='')\n",
    "    if  x+y+z==7 :  \n",
    "        print('高')\n",
    "    elif x==2 and y>=2 :\n",
    "        print('中')\n",
    "    else :\n",
    "        print('低')\n",
    "check()"
   ]
  },
  {
   "cell_type": "markdown",
   "metadata": {},
   "source": [
    "**此方法存疑**\n",
    "* 检查密码是否为空会进入死循环（未找到原因）\n",
    "* 输入密码全为特殊字符时会判断为安全水平低，而这种密码不符合规则\n",
    "\n",
    "可参考：[密码检验Python实现](http://www.mamicode.com/info-detail-2584088.html)"
   ]
  },
  {
   "cell_type": "code",
   "execution_count": 55,
   "metadata": {
    "scrolled": true
   },
   "outputs": [
    {
     "name": "stdout",
     "output_type": "stream",
     "text": [
      "1\n"
     ]
    }
   ],
   "source": [
    "pw_nums = '0123456789'\n",
    "pw_chars = 'abcdefghijklmnopqrstuvwxyzABCDEFGHIJKLMNOPQRSTUVWXYZ'\n",
    "pw_symbols = r'''`!@#$%^&*()_+-=/*{}[]\\|'\";:/?,.<>'''\n",
    "passwd = '!1241251251!!@#!@'\n",
    "z = 0\n",
    "if passwd[0] in pw_symbols :\n",
    "        z = 1\n",
    "print(z)"
   ]
  },
  {
   "cell_type": "markdown",
   "metadata": {},
   "source": [
    "### 题目23：如果想要显示Pi = 3.14，format前边的字符串应该怎么填写呢？\n",
    "```\n",
    "''.format('Pi = ', 3.1415)\n",
    "```"
   ]
  },
  {
   "cell_type": "code",
   "execution_count": 10,
   "metadata": {},
   "outputs": [
    {
     "name": "stdout",
     "output_type": "stream",
     "text": [
      "Pi = 3.14\n"
     ]
    }
   ],
   "source": [
    "str123 = '{0}{1:.2f}'.format('Pi = ',3.1415)\n",
    "print(str123)"
   ]
  },
  {
   "cell_type": "markdown",
   "metadata": {},
   "source": [
    "### 题目24：打印九九乘法表"
   ]
  },
  {
   "cell_type": "code",
   "execution_count": 11,
   "metadata": {},
   "outputs": [
    {
     "name": "stdout",
     "output_type": "stream",
     "text": [
      "1*1=01\t\n",
      "1*2=02\t2*2=04\t\n",
      "1*3=03\t2*3=06\t3*3=09\t\n",
      "1*4=04\t2*4=08\t3*4=12\t4*4=16\t\n",
      "1*5=05\t2*5=10\t3*5=15\t4*5=20\t5*5=25\t\n",
      "1*6=06\t2*6=12\t3*6=18\t4*6=24\t5*6=30\t6*6=36\t\n",
      "1*7=07\t2*7=14\t3*7=21\t4*7=28\t5*7=35\t6*7=42\t7*7=49\t\n",
      "1*8=08\t2*8=16\t3*8=24\t4*8=32\t5*8=40\t6*8=48\t7*8=56\t8*8=64\t\n",
      "1*9=09\t2*9=18\t3*9=27\t4*9=36\t5*9=45\t6*9=54\t7*9=63\t8*9=72\t9*9=81\t\n"
     ]
    }
   ],
   "source": [
    "for i in range(1,10):\n",
    "    a = 1\n",
    "    while a <= i :\n",
    "        print('{0}*{1}={2:0>2}'.format(a,i,a*i),end='\\t')\n",
    "        a += 1\n",
    "    print()"
   ]
  },
  {
   "cell_type": "code",
   "execution_count": 12,
   "metadata": {},
   "outputs": [
    {
     "name": "stdout",
     "output_type": "stream",
     "text": [
      "1*1=1 \n",
      "1*2=2 2*2=4 \n",
      "1*3=3 2*3=6 3*3=9 \n",
      "1*4=4 2*4=8 3*4=12 4*4=16 \n",
      "1*5=5 2*5=10 3*5=15 4*5=20 5*5=25 \n",
      "1*6=6 2*6=12 3*6=18 4*6=24 5*6=30 6*6=36 \n",
      "1*7=7 2*7=14 3*7=21 4*7=28 5*7=35 6*7=42 7*7=49 \n",
      "1*8=8 2*8=16 3*8=24 4*8=32 5*8=40 6*8=48 7*8=56 8*8=64 \n",
      "1*9=9 2*9=18 3*9=27 4*9=36 5*9=45 6*9=54 7*9=63 8*9=72 9*9=81 \n"
     ]
    }
   ],
   "source": [
    "def x99():\n",
    "    for i in range(1,10):\n",
    "        for j in range(1,i+1):\n",
    "            print('%d*%d=%d'%(j,i,i*j),end=' ')\n",
    "        print()\n",
    "x99()"
   ]
  },
  {
   "cell_type": "markdown",
   "metadata": {},
   "source": [
    "可以参考：[打印九九乘法表](https://www.cnblogs.com/suiy-160428/p/5594389.html)"
   ]
  },
  {
   "cell_type": "markdown",
   "metadata": {},
   "source": [
    "### 题目25：下面代码会打印什么内容？\n",
    "```\n",
    "\"{{1}}\".format(\"不打印\", \"打印\")\n",
    "```"
   ]
  },
  {
   "cell_type": "code",
   "execution_count": 13,
   "metadata": {},
   "outputs": [
    {
     "data": {
      "text/plain": [
       "'{1}'"
      ]
     },
     "execution_count": 13,
     "metadata": {},
     "output_type": "execute_result"
    }
   ],
   "source": [
    "\"{{1}}\".format(\"不打印\", \"打印\")"
   ]
  },
  {
   "cell_type": "markdown",
   "metadata": {},
   "source": [
    "* {{}}外面的大括号对里面的大括号进行转义，所以\"\"内的内容会直接返回，format方法缺少位置参数不会执行"
   ]
  },
  {
   "cell_type": "markdown",
   "metadata": {},
   "source": [
    "### 题目26：下面函数有多少个参数？\n",
    "\n",
    "```\n",
    "def MyFun((x, y), (a, b)):\n",
    "    return x * y - a * b\n",
    "```"
   ]
  },
  {
   "cell_type": "markdown",
   "metadata": {},
   "source": [
    "0个，使用元组作为形参会报错\n",
    "\n",
    "正确写法应该是\n"
   ]
  },
  {
   "cell_type": "code",
   "execution_count": 12,
   "metadata": {},
   "outputs": [
    {
     "data": {
      "text/plain": [
       "10"
      ]
     },
     "execution_count": 12,
     "metadata": {},
     "output_type": "execute_result"
    }
   ],
   "source": [
    "def MyFun(x, y):\n",
    "    return x[0] * x[1] - y[0] * y[1]\n",
    "MyFun((3, 4), (1, 2))"
   ]
  },
  {
   "cell_type": "markdown",
   "metadata": {},
   "source": [
    "### 题目27：编写一个函数，利用欧几里得算法求最大公约数，例如gcd(x, y)返回值为参数x和参数y的最大公约数"
   ]
  },
  {
   "cell_type": "code",
   "execution_count": 17,
   "metadata": {},
   "outputs": [
    {
     "name": "stdout",
     "output_type": "stream",
     "text": [
      "2\n"
     ]
    }
   ],
   "source": [
    "def gcd(x,y):\n",
    "    while y :\n",
    "        x,y = y,x%y\n",
    "    return x\n",
    "print(gcd(4,6))"
   ]
  },
  {
   "cell_type": "code",
   "execution_count": null,
   "metadata": {},
   "outputs": [],
   "source": []
  }
 ],
 "metadata": {
  "kernelspec": {
   "display_name": "Python 3",
   "language": "python",
   "name": "python3"
  },
  "language_info": {
   "codemirror_mode": {
    "name": "ipython",
    "version": 3
   },
   "file_extension": ".py",
   "mimetype": "text/x-python",
   "name": "python",
   "nbconvert_exporter": "python",
   "pygments_lexer": "ipython3",
   "version": "3.6.4"
  }
 },
 "nbformat": 4,
 "nbformat_minor": 2
}
