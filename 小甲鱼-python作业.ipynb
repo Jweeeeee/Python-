{
 "cells": [
  {
   "cell_type": "markdown",
   "metadata": {},
   "source": [
    "### 题目1：编写程序：hello.py，要求用户输入姓名并打印“你好，姓名！”"
   ]
  },
  {
   "cell_type": "code",
   "execution_count": 3,
   "metadata": {
    "scrolled": true
   },
   "outputs": [
    {
     "name": "stdout",
     "output_type": "stream",
     "text": [
      "你的名字：弟弟\n",
      "你好, 弟弟!\n"
     ]
    }
   ],
   "source": [
    "def hello():\n",
    "    name = input('你的名字：')\n",
    "    print('你好, '+ name + '!')\n",
    "hello()"
   ]
  },
  {
   "cell_type": "markdown",
   "metadata": {},
   "source": [
    "### 题目2：编写程序：calc.py 要求用户输入1到100之间数字并判断，输入符合要求打印“你妹好漂亮”，不符合要求则打印“你大爷好丑”"
   ]
  },
  {
   "cell_type": "code",
   "execution_count": 12,
   "metadata": {},
   "outputs": [
    {
     "name": "stdout",
     "output_type": "stream",
     "text": [
      "请输入一个1~100间的数：29\n",
      "你妹好漂亮\n"
     ]
    }
   ],
   "source": [
    "def calc():\n",
    "    number = float(input('请输入一个1~100间的数：'))\n",
    "    if 1 <= number <= 100 :\n",
    "        print('你妹好漂亮')\n",
    "    else : \n",
    "        print('你大爷好丑')\n",
    "calc()"
   ]
  },
  {
   "cell_type": "markdown",
   "metadata": {},
   "source": [
    "### 题目3：如果非要在原始字符串结尾输入反斜杠，可以如何灵活处理？例如打印：C:\\Program Files\\FishC\\Good\\"
   ]
  },
  {
   "cell_type": "code",
   "execution_count": 19,
   "metadata": {},
   "outputs": [
    {
     "name": "stdout",
     "output_type": "stream",
     "text": [
      "C:Program Files\\FishC\\Good\\\n"
     ]
    }
   ],
   "source": [
    "print(r'C:Program Files\\FishC\\Good'+'\\\\')    # +号可省略"
   ]
  },
  {
   "cell_type": "markdown",
   "metadata": {},
   "source": [
    "### 题目4：请问以下代码会打印多少次“我爱鱼C！”"
   ]
  },
  {
   "cell_type": "code",
   "execution_count": 32,
   "metadata": {},
   "outputs": [
    {
     "name": "stdout",
     "output_type": "stream",
     "text": [
      "我爱鱼C!\n",
      "我爱鱼C!\n",
      "我爱鱼C!\n",
      "我爱鱼C!\n",
      "我爱鱼C!\n",
      "我爱鱼C!\n",
      "我爱鱼C!\n",
      "我爱鱼C!\n",
      "我爱鱼C!\n",
      "我爱鱼C!\n"
     ]
    }
   ],
   "source": [
    "i = 10\n",
    "while i:\n",
    "    print('我爱鱼C!')\n",
    "    i = i - 1"
   ]
  },
  {
   "cell_type": "markdown",
   "metadata": {},
   "source": [
    "10次，While循环在条件为True时执行下面语句，条件为False时跳出循环，每次执行，i-1，到0的时候，条件为False，跳出循环\n",
    "\n",
    "* Python3中bool类型是int类型的子类,True == 1,False == 0\n",
    "\n",
    "* Python3中其他类型值转换 bool 值时除了 ''、\"\"、''''''、\"\"\"\"\"\"、0、()、[]、{}、None、0.0、0L、0.0+0.0j、False 为 False 外，其他都为 True"
   ]
  },
  {
   "cell_type": "code",
   "execution_count": 42,
   "metadata": {},
   "outputs": [
    {
     "name": "stdout",
     "output_type": "stream",
     "text": [
      "True\n",
      "True\n",
      "False\n",
      "False\n"
     ]
    }
   ],
   "source": [
    "print(True == 1)\n",
    "print(False == 0)\n",
    "print(True == 520)\n",
    "print(True == 'asd')"
   ]
  },
  {
   "cell_type": "markdown",
   "metadata": {},
   "source": [
    "### 题目5： 请写出与 10 < cost < 50 等价的表达式"
   ]
  },
  {
   "cell_type": "markdown",
   "metadata": {},
   "source": [
    "(10 < cost) and (cost < 50)"
   ]
  },
  {
   "cell_type": "markdown",
   "metadata": {},
   "source": [
    "### 题目6：not 1 or 0 and 1 or 3 and 4 or 5 and 6 or 7 and 8 and 9 的运算结果"
   ]
  },
  {
   "cell_type": "code",
   "execution_count": 84,
   "metadata": {},
   "outputs": [
    {
     "data": {
      "text/plain": [
       "4"
      ]
     },
     "execution_count": 84,
     "metadata": {},
     "output_type": "execute_result"
    }
   ],
   "source": [
    "not 1 or 0 and 1 or 3 and 4 or 5 and 6 or 7 and 8 and 9"
   ]
  },
  {
   "cell_type": "markdown",
   "metadata": {},
   "source": [
    "* not 即非，返回其值相反的bool型\n",
    "\n",
    "* or 即或，返回值为True的前一个。若都为True则返回前一个，若都不为True则返回False\n",
    "\n",
    "* and 即且，返回值为True的后一个。若都为True则返回后一个，若不都为True则返回False\n",
    "\n",
    "* 运算顺序 not > and > or "
   ]
  },
  {
   "cell_type": "markdown",
   "metadata": {},
   "source": [
    "### 题目7：请写一个程序打印出 0~100 所有的奇数"
   ]
  },
  {
   "cell_type": "code",
   "execution_count": 106,
   "metadata": {},
   "outputs": [
    {
     "name": "stdout",
     "output_type": "stream",
     "text": [
      "1 3 5 7 9 11 13 15 17 19 21 23 25 27 29 31 33 35 37 39 41 43 45 47 49 51 53 55 57 59 61 63 65 67 69 71 73 75 77 79 81 83 85 87 89 91 93 95 97 99 "
     ]
    }
   ],
   "source": [
    "def odd(a,b):\n",
    "    for i in range(a,b+1):\n",
    "        if i % 2 == 1:\n",
    "            print(i,end=' ')\n",
    "odd(0,100)"
   ]
  },
  {
   "cell_type": "markdown",
   "metadata": {},
   "source": [
    "\n",
    "### 题目8：爱因斯坦曾出过这样一道有趣的数学题：有一个长阶梯，若每步上2阶，最后剩1阶；若每步上3阶，最后剩2阶；若每步上5阶，最后剩4阶；若每步上6阶，最后剩5阶；只有每步上7阶，最后刚好一阶也不剩。问阶梯共多少阶？"
   ]
  },
  {
   "cell_type": "code",
   "execution_count": 112,
   "metadata": {},
   "outputs": [
    {
     "name": "stdout",
     "output_type": "stream",
     "text": [
      "阶梯共119阶\n"
     ]
    }
   ],
   "source": [
    "x = 0\n",
    "while True :\n",
    "    x += 7\n",
    "    if x % 2 == 1 and \\\n",
    "        x % 3 == 2 and \\\n",
    "        x % 5 == 4 and \\\n",
    "        x % 6 == 5  :\n",
    "        print('阶梯共%d阶'%x)\n",
    "        break"
   ]
  },
  {
   "cell_type": "markdown",
   "metadata": {},
   "source": [
    "### 题目9：快速交换x=1,y=2,z=3的值"
   ]
  },
  {
   "cell_type": "code",
   "execution_count": 117,
   "metadata": {},
   "outputs": [
    {
     "name": "stdout",
     "output_type": "stream",
     "text": [
      "(3, 1, 2)\n"
     ]
    }
   ],
   "source": [
    "x = 1\n",
    "y = 2\n",
    "z = 3\n",
    "(x,y,z) = (z,x,y)\n",
    "print((x,y,z))"
   ]
  },
  {
   "cell_type": "markdown",
   "metadata": {},
   "source": [
    "### 题目10：按照100分制，90分以上成绩为A，80到90为B，60到80为C，60以下为D，写一个程序，当用户输入分数，自动转换为ABCD的形式打印"
   ]
  },
  {
   "cell_type": "code",
   "execution_count": 124,
   "metadata": {},
   "outputs": [
    {
     "name": "stdout",
     "output_type": "stream",
     "text": [
      "请输入学生的分数:50\n",
      "D\n"
     ]
    }
   ],
   "source": [
    "def ABC():\n",
    "    number = float(input('请输入学生的分数:'))\n",
    "    if number>100 or number<0 :\n",
    "        print('您输入的分数有误')\n",
    "    elif number>90 :\n",
    "        print('A')\n",
    "    elif number>80 :\n",
    "        print('B')\n",
    "    elif number>60 :\n",
    "        print('C')\n",
    "    else :\n",
    "        print('D')\n",
    "ABC()"
   ]
  },
  {
   "cell_type": "markdown",
   "metadata": {},
   "source": [
    "### 题目11：请将以下代码修改为三元操作符实现：\n",
    "x, y, z = 6, 5, 4\n",
    "\n",
    "if x < y:\n",
    "\n",
    "    small = x\n",
    "\n",
    "if z < small: \n",
    "    \n",
    "    small = z\n",
    "\n",
    "elif y < z:\n",
    "    \n",
    "    small = y\n",
    "\n",
    "else:\n",
    "    \n",
    "    small = z"
   ]
  },
  {
   "cell_type": "code",
   "execution_count": 128,
   "metadata": {},
   "outputs": [
    {
     "name": "stdout",
     "output_type": "stream",
     "text": [
      "4\n"
     ]
    }
   ],
   "source": [
    "def quxiao(x,y,z):\n",
    "    small = (x if (x < y) else y)\n",
    "    print(small if (small < z) else z)\n",
    "quxiao(4,5,6)"
   ]
  },
  {
   "cell_type": "code",
   "execution_count": null,
   "metadata": {},
   "outputs": [],
   "source": []
  }
 ],
 "metadata": {
  "kernelspec": {
   "display_name": "Python 3",
   "language": "python",
   "name": "python3"
  },
  "language_info": {
   "codemirror_mode": {
    "name": "ipython",
    "version": 3
   },
   "file_extension": ".py",
   "mimetype": "text/x-python",
   "name": "python",
   "nbconvert_exporter": "python",
   "pygments_lexer": "ipython3",
   "version": "3.6.4"
  }
 },
 "nbformat": 4,
 "nbformat_minor": 2
}
